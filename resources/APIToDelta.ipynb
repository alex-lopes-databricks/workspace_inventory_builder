{
 "cells": [
  {
   "cell_type": "code",
   "execution_count": 0,
   "metadata": {
    "application/vnd.databricks.v1+cell": {
     "cellMetadata": {
      "byteLimit": 2048000,
      "rowLimit": 10000
     },
     "inputWidgets": {},
     "nuid": "7b54dd3c-c900-4ede-a8f5-ea59cd91bbbe",
     "showTitle": false,
     "tableResultSettingsMap": {},
     "title": ""
    }
   },
   "outputs": [],
   "source": [
    "dbutils.widgets.removeAll()"
   ]
  },
  {
   "cell_type": "code",
   "execution_count": 0,
   "metadata": {
    "application/vnd.databricks.v1+cell": {
     "cellMetadata": {
      "byteLimit": 2048000,
      "rowLimit": 10000
     },
     "inputWidgets": {},
     "nuid": "14e599d7-a8ab-463a-b233-ddbf457a6dea",
     "showTitle": false,
     "tableResultSettingsMap": {},
     "title": ""
    }
   },
   "outputs": [],
   "source": [
    "dbutils.widgets.text(\"config\", \"/Workspace/Users/alex.lopes@databricks.com/WorkspaceInventory/conf/global_init_scripts.yml\")"
   ]
  },
  {
   "cell_type": "code",
   "execution_count": 0,
   "metadata": {
    "application/vnd.databricks.v1+cell": {
     "cellMetadata": {
      "byteLimit": 2048000,
      "rowLimit": 10000
     },
     "inputWidgets": {},
     "nuid": "834c2bf0-db04-4f0d-8880-349b94de7438",
     "showTitle": false,
     "tableResultSettingsMap": {},
     "title": ""
    }
   },
   "outputs": [],
   "source": [
    "widgets = dbutils.widgets.getAll()"
   ]
  },
  {
   "cell_type": "code",
   "execution_count": 0,
   "metadata": {
    "application/vnd.databricks.v1+cell": {
     "cellMetadata": {
      "byteLimit": 2048000,
      "rowLimit": 10000
     },
     "inputWidgets": {},
     "nuid": "bdb0c221-55bf-4bb5-8428-684c3028548c",
     "showTitle": false,
     "tableResultSettingsMap": {},
     "title": ""
    }
   },
   "outputs": [],
   "source": [
    "from databricks.sdk import WorkspaceClient, AccountClient\n",
    "from pprint import pprint\n",
    "import yaml\n",
    "import traceback\n",
    "from pyspark.sql.functions import *"
   ]
  },
  {
   "cell_type": "code",
   "execution_count": 0,
   "metadata": {
    "application/vnd.databricks.v1+cell": {
     "cellMetadata": {
      "byteLimit": 2048000,
      "rowLimit": 10000
     },
     "inputWidgets": {},
     "nuid": "76d08d96-c407-42fc-963a-66f47416f737",
     "showTitle": false,
     "tableResultSettingsMap": {},
     "title": ""
    }
   },
   "outputs": [
    {
     "output_type": "stream",
     "name": "stdout",
     "output_type": "stream",
     "text": [
      "Config: /Workspace/Users/alex.lopes@databricks.com/WorkspaceInventory/conf/global_init_scripts.yml\n[{'api': {'call': 'w.global_init_scripts.list',\n          'write': {'mode': 'overwrite',\n                    'table': 'shared.bigc.global_init_scripts'}}}]\n"
     ]
    }
   ],
   "source": [
    "print(\"Config:\", widgets[\"config\"])\n",
    "with open(widgets[\"config\"], \"r\") as f:\n",
    "  config = yaml.safe_load(f.read())\n",
    "pprint(config)"
   ]
  },
  {
   "cell_type": "code",
   "execution_count": 0,
   "metadata": {
    "application/vnd.databricks.v1+cell": {
     "cellMetadata": {
      "byteLimit": 2048000,
      "rowLimit": 10000
     },
     "inputWidgets": {},
     "nuid": "aa19fdae-adf6-470e-b5a6-b271a6f1753e",
     "showTitle": false,
     "tableResultSettingsMap": {},
     "title": ""
    }
   },
   "outputs": [],
   "source": [
    "def get_api_call(conf):\n",
    "  api_func = conf['call'].split(\".\")\n",
    "  print(api_func)\n",
    "\n",
    "  objs = []\n",
    "  keys = {}\n",
    "  if api_func[0] == 'w':\n",
    "    w = WorkspaceClient()\n",
    "    objs.append(w)\n",
    "    keys[\"workspace_id\"] = w.get_workspace_id()\n",
    "    user = w.current_user.me().as_dict()\n",
    "    keys[\"execution_user_name\"] = user[\"displayName\"]\n",
    "    keys[\"execution_user_id\"] = user[\"id\"]\n",
    "  elif api_func[0] == 'a':\n",
    "    objs.append(AccountClient()) \n",
    "\n",
    "\n",
    "  for i, f in enumerate(api_func[1:]):\n",
    "    objs.append(getattr(objs[i], f))\n",
    "  return objs, keys\n"
   ]
  },
  {
   "cell_type": "code",
   "execution_count": 0,
   "metadata": {
    "application/vnd.databricks.v1+cell": {
     "cellMetadata": {
      "byteLimit": 2048000,
      "rowLimit": 10000
     },
     "inputWidgets": {},
     "nuid": "c7d72815-ab91-42ff-91cd-b58daed11a9b",
     "showTitle": false,
     "tableResultSettingsMap": {},
     "title": ""
    }
   },
   "outputs": [],
   "source": [
    "def create_df(df_result, rows, i, schema):\n",
    "  if (i + 1) % 1000 == 0:\n",
    "      print(\"Sending to DF data\", i)\n",
    "      tmp_df = spark.createDataFrame(rows, schema)\n",
    "      if df_result is None:\n",
    "        df_result = tmp_df\n",
    "      else:\n",
    "        df_result = df_result.unionAll(tmp_df)\n",
    "      rows = []\n",
    "  return df_result, rows\n",
    "\n",
    "def execute_and_save(conf, objs):\n",
    "  df_result = None  \n",
    "  rows = []\n",
    "  i = 0\n",
    "  items = objs[-1](*conf.get(\"cargs\", []), **conf.get(\"kargs\", {}))\n",
    "  items = items if type(items) == iter else iter(items)\n",
    "  while True:\n",
    "    try:\n",
    "      row = next(items).as_dict()  \n",
    "    except StopIteration:\n",
    "      break\n",
    "    except Exception as e:\n",
    "      print(\"Error in one object:\", e, traceback.format_exc())\n",
    "      i += 1\n",
    "      continue    \n",
    "    else:\n",
    "      if i == 0: \n",
    "        pprint(row)\n",
    "        schema = \",\".join([i + \" string\" for i in row.keys()])    \n",
    "      rows.append(row)\n",
    "      df_result, rows = create_df(df_result, rows, i, schema)    \n",
    "      i += 1\n",
    "  \n",
    "  print(\"Total items found:\", i)\n",
    "  if i > 0:\n",
    "    tmp_df = spark.createDataFrame(rows, schema)\n",
    "    df_result = df_result.unionAll(tmp_df) if df_result is not None else tmp_df \n",
    "  \n",
    "  return df_result\n",
    "  "
   ]
  },
  {
   "cell_type": "code",
   "execution_count": 0,
   "metadata": {
    "application/vnd.databricks.v1+cell": {
     "cellMetadata": {
      "byteLimit": 2048000,
      "rowLimit": 10000
     },
     "inputWidgets": {},
     "nuid": "16c50718-ddfe-43a1-861e-45c8e3cb5d3c",
     "showTitle": false,
     "tableResultSettingsMap": {},
     "title": ""
    }
   },
   "outputs": [],
   "source": [
    "def write_to_table(conf, df, keys):\n",
    "  df = df.withColumn(\"api_updated_at\", current_timestamp())\n",
    "  for key, value in keys.items():\n",
    "    df = df.withColumn(\"api_\" + key, lit(value))\n",
    "\n",
    "  df = df.write\n",
    "  write_conf = conf['write']\n",
    "  if \"mode\" in write_conf:\n",
    "    df = df.mode(write_conf['mode'])\n",
    "  if \"options\" in write_conf:\n",
    "    df = df.options(**write_conf['options'])\n",
    "\n",
    "  df.saveAsTable(write_conf['table'])"
   ]
  },
  {
   "cell_type": "code",
   "execution_count": 0,
   "metadata": {
    "application/vnd.databricks.v1+cell": {
     "cellMetadata": {
      "byteLimit": 2048000,
      "rowLimit": 10000
     },
     "inputWidgets": {},
     "nuid": "00a4234b-3cc1-444e-9597-cd0309507974",
     "showTitle": false,
     "tableResultSettingsMap": {},
     "title": ""
    }
   },
   "outputs": [
    {
     "output_type": "stream",
     "name": "stdout",
     "output_type": "stream",
     "text": [
      "Executing: w.global_init_scripts.list Table: shared.bigc.global_init_scripts\n['w', 'global_init_scripts', 'list']\nTotal items found: 0\nNo data to save\n"
     ]
    }
   ],
   "source": [
    "for conf in config:\n",
    "  conf = conf['api']\n",
    "  print(\"Executing:\", conf[\"call\"], \"Table:\", conf[\"write\"][\"table\"])\n",
    "  objs, keys = get_api_call(conf)  \n",
    "  df = execute_and_save(conf, objs)\n",
    "  if df:\n",
    "    write_to_table(conf, df, keys)\n",
    "  else:\n",
    "    print(\"No data to save\")"
   ]
  }
 ],
 "metadata": {
  "application/vnd.databricks.v1+notebook": {
   "dashboards": [],
   "environmentMetadata": {
    "base_environment": "",
    "client": "1",
    "dependencies": [
     "pyyaml"
    ]
   },
   "language": "python",
   "notebookMetadata": {
    "mostRecentlyExecutedCommandWithImplicitDF": {
     "commandId": 117686861253083,
     "dataframes": [
      "_sqldf"
     ]
    },
    "pythonIndentUnit": 2
   },
   "notebookName": "APIToDelta",
   "widgets": {
    "config": {
     "currentValue": "/Workspace/Users/alex.lopes@databricks.com/WorkspaceInventory/conf/global_init_scripts.yml",
     "nuid": "869e365e-de76-444a-807c-0af89adaed31",
     "typedWidgetInfo": {
      "autoCreated": false,
      "defaultValue": "/Workspace/Users/alex.lopes@databricks.com/WorkspaceInventory/conf/global_init_scripts.yml",
      "label": null,
      "name": "config",
      "options": {
       "widgetDisplayType": "Text",
       "validationRegex": null
      },
      "parameterDataType": "String"
     },
     "widgetInfo": {
      "widgetType": "text",
      "defaultValue": "/Workspace/Users/alex.lopes@databricks.com/WorkspaceInventory/conf/global_init_scripts.yml",
      "label": null,
      "name": "config",
      "options": {
       "widgetType": "text",
       "autoCreated": null,
       "validationRegex": null
      }
     }
    }
   }
  },
  "language_info": {
   "name": "python"
  }
 },
 "nbformat": 4,
 "nbformat_minor": 0
}
